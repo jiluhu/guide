{
 "cells": [
  {
   "cell_type": "code",
   "execution_count": null,
   "metadata": {},
   "outputs": [],
   "source": [
    "import urllib.request\n",
    "url=\"http://www.theoptionsguide.com\"\n",
    "html = urllib.request.urlopen(url).read()"
   ]
  },
  {
   "cell_type": "code",
   "execution_count": null,
   "metadata": {},
   "outputs": [],
   "source": [
    "import urllib\n",
    "from bs4 import BeautifulSoup\n",
    "import os"
   ]
  },
  {
   "cell_type": "code",
   "execution_count": null,
   "metadata": {},
   "outputs": [],
   "source": [
    "print (html)"
   ]
  },
  {
   "cell_type": "code",
   "execution_count": 5,
   "metadata": {},
   "outputs": [],
   "source": [
    "soup = BeautifulSoup(html, \"html.parser\")"
   ]
  },
  {
   "cell_type": "code",
   "execution_count": 25,
   "metadata": {},
   "outputs": [
    {
     "name": "stdout",
     "output_type": "stream",
     "text": [
      "<a class=\"navbar-brand\" href=\"#\">The Options Guide</a>\n",
      "<a href=\"default.aspx\">\r\n",
      "\t\t\t\t\t\tHome <span class=\"sr-only\">(current)</span>\n",
      "</a>\n",
      "<a href=\"binary-option.aspx\">Binary Options</a>\n",
      "<a href=\"stock-option.aspx\">Stock Options</a>\n",
      "<a href=\"option-trading-strategies.aspx\">Stock Option Strategies</a>\n",
      "<a href=\"futures-option.aspx\">Futures Options</a>\n",
      "<a href=\"http://www.coinguru.me\">Crypto Trading (new!)\r\n",
      "\t\t\t\t</a>\n",
      "<a href=\"futures-trading.aspx\">learn more about trading futures contracts</a>\n",
      "<a href=\"synthetic-long-futures.aspx\">Synthetic Long Futures <img border=\"0\" src=\"images/arrow.gif\"/></a>\n",
      "<a href=\"buying-straddles-into-earnings.aspx\">Buying Straddles into Earnings</a>\n",
      "<a href=\"buying-straddles-into-earnings.aspx\">[Read on...]</a>\n",
      "<a href=\"writing-puts-to-purchase-stocks.aspx\">Writing Puts to Purchase Stocks</a>\n",
      "<a href=\"writing-puts-to-purchase-stocks.aspx\">[Read on...]</a>\n",
      "<a href=\"binary-option.aspx\">What are Binary Options and How to Trade Them?</a>\n",
      "<a href=\"binary-options.aspx\">[Read on...]</a>\n",
      "<a href=\"investing-in-growth-stocks-using-leaps.aspx\">Investing in Growth Stocks using LEAPSÂ® options</a>\n",
      "<a href=\"investing-in-growth-stocks-using-leaps.aspx\">[Read on...]</a>\n",
      "<a href=\"effect-of-dividends-on-option-pricing.aspx\">Effect of Dividends on Option Pricing</a>\n",
      "<a href=\"effect-of-dividends-on-option-pricing.aspx\">[Read on...]</a>\n",
      "<a href=\"bull-call-spread-instead-of-covered-call.aspx\">Bull Call Spread: An Alternative to the Covered Call</a>\n",
      "<a href=\"bull-call-spread-instead-of-covered-call.aspx\">[Read on...]</a>\n",
      "<a href=\"dividend-capture-using-covered-calls.aspx\">Dividend Capture using Covered Calls</a>\n",
      "<a href=\"dividend-capture-using-covered-calls.aspx\">[Read on...]</a>\n",
      "<a href=\"leverage-using-calls-not-margin-calls.aspx\">Leverage using Calls, Not Margin Calls</a>\n",
      "<a href=\"leverage-using-calls-not-margin-calls.aspx\">[Read on...]</a>\n",
      "<a href=\"day-trading-option.aspx\">Day Trading using Options</a>\n",
      "<a href=\"day-trading-option.aspx\">[Read on...]</a>\n",
      "<a href=\"put-call-ratio.aspx\">What is the Put Call Ratio and How to Use It</a>\n",
      "<a href=\"put-call-ratio.aspx\">[Read on...]</a>\n",
      "<a href=\"understanding-put-call-parity.aspx\">Understanding Put-Call Parity</a>\n",
      "<a href=\"understanding-put-call-parity.aspx\">[Read on...]</a>\n",
      "<a href=\"the-greeks.aspx\">Understanding the Greeks</a>\n",
      "<a href=\"the-greeks.aspx\">[Read on...]</a>\n",
      "<a href=\"discounted-cash-flow.aspx\">Valuing Common Stock using Discounted Cash Flow\r\n",
      "    Analysis</a>\n",
      "<a href=\"discounted-cash-flow.aspx\">[Read on...]</a>\n",
      "<h4>Follow Us on Facebook to Get Daily Strategies &amp; Tips!</h4>\n",
      "<a href=\"https://www.facebook.com/theoptionsguide\">The Options Guide</a>\n",
      "<h4>Futures Basics</h4>\n",
      "<a class=\"list-group-item\" href=\"futures-trading.aspx\">Futures Trading Basics</a>\n",
      "<a class=\"list-group-item\" href=\"futures-contract.aspx\">Futures Contract Specs</a>\n",
      "<a class=\"list-group-item\" href=\"futures-exchanges.aspx\">Futures Exchanges</a>\n",
      "<a class=\"list-group-item\" href=\"futures-margin.aspx\">Futures Margin</a>\n",
      "<a class=\"list-group-item\" href=\"long-futures.aspx\">Long Futures Position</a>\n",
      "<a class=\"list-group-item\" href=\"short-futures.aspx\">Short Futures Position</a>\n",
      "<a class=\"list-group-item\" href=\"long-hedge.aspx\">Long Hedge</a>\n",
      "<a class=\"list-group-item\" href=\"short-hedge.aspx\">Short Hedge</a>\n",
      "<a class=\"list-group-item\" href=\"futures-basis.aspx\">Understanding Basis</a>\n",
      "<h4>Futures Options</h4>\n",
      "<a class=\"list-group-item\" href=\"futures-option.aspx\">Options on Futures</a>\n",
      "<a class=\"list-group-item\" href=\"synthetic-long-futures.aspx\">Synthetic Long Futures</a>\n",
      "<a class=\"list-group-item\" href=\"synthetic-long-futures-split-strikes.aspx\">Synthetic Long Futures (Split Strikes)</a>\n",
      "<a class=\"list-group-item\" href=\"synthetic-short-futures.aspx\">Synthetic Short Futures</a>\n",
      "<a class=\"list-group-item\" href=\"synthetic-short-futures-split-strikes.aspx\">Synthetic Short Futures (Split Strikes)</a>\n",
      "<h4>Energy Options</h4>\n",
      "<a class=\"list-group-item\" href=\"crude-oil-options.aspx\">Crude Oil Options</a>\n",
      "<a class=\"list-group-item\" href=\"heating-oil-options.aspx\">Heating Oil Options</a>\n",
      "<a class=\"list-group-item\" href=\"gasoline-options.aspx\">Gasoline Options</a>\n",
      "<a class=\"list-group-item\" href=\"natural-gas-options.aspx\">Natural Gas Options</a>\n",
      "<a class=\"list-group-item\" href=\"ethanol-options.aspx\">Ethanol Options</a>\n",
      "<h4>Metal Options</h4>\n",
      "<a class=\"list-group-item\" href=\"gold-options.aspx\">Gold Options</a>\n",
      "<a class=\"list-group-item\" href=\"platinum-options.aspx\">Platinum Options</a>\n",
      "<a class=\"list-group-item\" href=\"silver-options.aspx\">Silver Options</a>\n",
      "<a class=\"list-group-item\" href=\"copper-options.aspx\">Copper Options</a>\n",
      "<a class=\"list-group-item\" href=\"aluminum-options.aspx\">Aluminum Options</a>\n",
      "<a class=\"list-group-item\" href=\"lead-options.aspx\">Lead Options</a>\n",
      "<a class=\"list-group-item\" href=\"zinc-options.aspx\">Zinc Options</a>\n",
      "<a class=\"list-group-item\" href=\"nickel-options.aspx\">Nickel Options</a>\n",
      "<a class=\"list-group-item\" href=\"tin-options.aspx\">Tin Options</a>\n",
      "<h4>Grains Options</h4>\n",
      "<a class=\"list-group-item\" href=\"corn-options.aspx\">Corn Options</a>\n",
      "<a class=\"list-group-item\" href=\"wheat-options.aspx\">Wheat Options</a>\n",
      "<a class=\"list-group-item\" href=\"soybeans-options.aspx\">Soybeans Options</a>\n",
      "<a class=\"list-group-item\" href=\"oats-options.aspx\">Oats Options</a>\n",
      "<a class=\"list-group-item\" href=\"rice-options.aspx\">Rice Options</a>\n",
      "<a class=\"list-group-item\" href=\"rapeseed-options.aspx\">Rapeseed Options</a>\n",
      "<h4>Softs Options</h4>\n",
      "<a class=\"list-group-item\" href=\"coffee-options.aspx\">Coffee Options</a>\n",
      "<a class=\"list-group-item\" href=\"cocoa-options.aspx\">Cocoa Options</a>\n",
      "<a class=\"list-group-item\" href=\"sugar-options.aspx\">Sugar Options</a>\n",
      "<h4>Livestock Options</h4>\n",
      "<a class=\"list-group-item\" href=\"live-cattle-options.aspx\">Live Cattle Options</a>\n",
      "<a class=\"list-group-item\" href=\"feeder-cattle-options.aspx\">Feeder Cattle Options</a>\n",
      "<a class=\"list-group-item\" href=\"lean-hogs-options.aspx\">Lean Hogs Options</a>\n",
      "<a class=\"list-group-item\" href=\"pork-bellies-options.aspx\">Pork Bellies Options</a>\n",
      "<h4>Options Strategy Finder</h4>\n",
      "<a href=\"https://ad.doubleclick.net/ddm/jump/N84001.3000316OPTIONSGUIDE/B10727559.200213282;sz=300x600;ord=[timestamp]?\" rel=\"nofollow\" target=\"_top\"> <img alt=\"\" border=\"0\" height=\"600\" src=\"https://ad.doubleclick.net/ddm/ad/N84001.3000316OPTIONSGUIDE/B10727559.200213282;sz=300x600;ord=[timestamp];dc_lat=;dc_rdid=;tag_for_child_directed_treatment=?\" width=\"300\"/> </a>\n",
      "<a href=\"default.aspx\">Home</a>\n",
      "<a href=\"about-us.aspx\" rel=\"nofollow\">About Us</a>\n",
      "<a href=\"terms-and-conditions.aspx\" rel=\"nofollow\">Terms of Use</a>\n",
      "<a href=\"disclaimer.aspx\" rel=\"nofollow\">Disclaimer</a>\n",
      "<a href=\"privacy-policy.aspx\" rel=\"nofollow\">Privacy Policy</a>\n",
      "<a href=\"sitemap.aspx\">Sitemap</a>\n",
      "<a href=\"http://www.statcounter.com/\" target=\"_blank\"><img alt=\"best counter\" border=\"0\" src=\"http://c18.statcounter.com/counter.php?sc_project=1867628&amp;java=0&amp;security=71d827d2&amp;invisible=1\"/></a>\n"
     ]
    }
   ],
   "source": [
    "\n",
    "for x in soup.find_all([\"h4\", \"a\"]):\n",
    "    #print(type(x))\n",
    "    #if isinstance(x,h4):\n",
    "    print(x)"
   ]
  },
  {
   "cell_type": "code",
   "execution_count": null,
   "metadata": {},
   "outputs": [],
   "source": []
  },
  {
   "cell_type": "code",
   "execution_count": null,
   "metadata": {},
   "outputs": [],
   "source": []
  }
 ],
 "metadata": {
  "kernelspec": {
   "display_name": "Python 3",
   "language": "python",
   "name": "python3"
  },
  "language_info": {
   "codemirror_mode": {
    "name": "ipython",
    "version": 3
   },
   "file_extension": ".py",
   "mimetype": "text/x-python",
   "name": "python",
   "nbconvert_exporter": "python",
   "pygments_lexer": "ipython3",
   "version": "3.6.5"
  }
 },
 "nbformat": 4,
 "nbformat_minor": 2
}
