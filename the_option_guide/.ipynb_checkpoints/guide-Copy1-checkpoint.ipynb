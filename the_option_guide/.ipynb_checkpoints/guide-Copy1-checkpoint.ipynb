{
 "cells": [
  {
   "cell_type": "code",
   "execution_count": 2,
   "metadata": {},
   "outputs": [],
   "source": [
    "def readhtml(filepath):\n",
    "    import urllib\n",
    "    from bs4 import BeautifulSoup\n",
    "    import os\n",
    "    htmlf=open(filepath,'r',encoding=\"utf-8\")\n",
    "    htmlcont=htmlf.read()\n",
    "    soup = BeautifulSoup(htmlcont, \"html.parser\")#实例化一个BeautifulSoup对象\n",
    "    [s.extract() for s in soup('script')]\n",
    "    bodyx=soup.body.body.div.div\n",
    "    contentsx= bodyx.contents\n",
    "    #print (contentsx)\n",
    "    return contentsx"
   ]
  },
  {
   "cell_type": "code",
   "execution_count": 129,
   "metadata": {},
   "outputs": [
    {
     "name": "stdout",
     "output_type": "stream",
     "text": [
      "<h3>Option Type</h3>\n",
      "<h3>Strike Price</h3>\n",
      "<h3>Premium</h3>\n",
      "<h3>Expiration Date</h3>\n",
      "<h3>Option Style</h3>\n",
      "<h3>Underlying Asset</h3>\n",
      "<h3>Contract Multiplier</h3>\n",
      "Next: Call Option \n",
      "<h3>You May Also Like</h3>\n",
      "<h3><a href=\"buying-straddles-into-earnings.aspx\">Buying Straddles into Earnings</a></h3>\n",
      "<h3><a href=\"writing-puts-to-purchase-stocks.aspx\">Writing Puts to Purchase Stocks</a></h3>\n",
      "<h3>\n",
      "<a href=\"binary-option.aspx\">What are Binary Options and How to Trade Them?</a>\n",
      "</h3>\n",
      "<h3><a href=\"investing-in-growth-stocks-using-leaps.aspx\">Investing in Growth Stocks using LEAPSÂ® options</a></h3>\n",
      "<h3><a href=\"effect-of-dividends-on-option-pricing.aspx\">Effect of Dividends on Option Pricing</a></h3>\n",
      "<h3><a href=\"bull-call-spread-instead-of-covered-call.aspx\">Bull Call Spread: An Alternative to the Covered Call</a></h3>\n",
      "<h3><a href=\"dividend-capture-using-covered-calls.aspx\">Dividend Capture using Covered Calls</a></h3>\n",
      "<h3><a href=\"leverage-using-calls-not-margin-calls.aspx\">Leverage using Calls, Not Margin Calls</a></h3>\n",
      "<h3><a href=\"day-trading-option.aspx\">Day Trading using Options</a></h3>\n",
      "<h3><a href=\"put-call-ratio.aspx\">What is the Put Call Ratio and How to Use It</a></h3>\n",
      "<h3><a href=\"understanding-put-call-parity.aspx\">Understanding Put-Call Parity</a></h3>\n",
      "<h3><a href=\"the-greeks.aspx\">Understanding the Greeks</a></h3>\n",
      "<h3><a href=\"discounted-cash-flow.aspx\">Valuing Common Stock using Discounted Cash Flow\n",
      "    Analysis</a></h3>\n"
     ]
    }
   ],
   "source": [
    "def htmltomd(mdname,contentsx):\n",
    "    import io\n",
    "    import sys\n",
    "    #sys.stdout = io.TextIOWrapper(sys.stdout.buffer,encoding='utf-8')\n",
    "    file = mdname\n",
    "    with open(file, 'a+') as f:\n",
    "        for child in  contentsx:        \n",
    "            if hasattr(child, 'name'):\n",
    "                if child.name==\"h1\":\n",
    "                    #print( \"===\"+str(type(child))+str(child))\n",
    "                    #print( child)\n",
    "                    f.write(\"# \"+str(child.string.encode(\"utf-8\"))[2:-1]+'\\n')\n",
    "                elif child.name==\"h2\":\n",
    "                    #print( child)\n",
    "                    f.write('\\n'+\"## \"+str(child.string.encode(\"utf-8\"))[2:-1]+'\\n')\n",
    "                elif child.name==\"h3\":\n",
    "                    print( child)\n",
    "                    f.write('\\n'+\"### \"+str(child.get_text().encode(\"utf-8\"))[2:-1]+'\\n')\n",
    "                elif child.name==\"p\":\n",
    "                    #print( child)\n",
    "                    f.write(str(child.get_text().encode(\"utf-8\"))[2:-1]+'\\n')\n",
    "            #<div class=\"next\">Next: <a href=\"call-option.aspx\">Call Option <img border=\"0\" src=\"images/arrow.gif\"/></a></div>\n",
    "                elif child.name==\"div\":\n",
    "                    if \"class\" in child.attrs:                    \n",
    "                        if str(child[\"class\"])==\"[\\'next\\']\":\n",
    "                            #title = child.get_text()\n",
    "                            print(child.get_text())\n",
    "                            f.write(str(child.get_text().encode(\"utf-8\"))[2:-1]+'\\n')\n",
    "        "
   ]
  },
  {
   "cell_type": "code",
   "execution_count": null,
   "metadata": {},
   "outputs": [],
   "source": [
    "import os.path\n",
    "rootdir = 'content'\n",
    "list_dir = os.listdir(rootdir)  # 列出文件夹下所有的目录与文件\n",
    "for i in range(0, len(list_dir)):\n",
    "    path = os.path.join(rootdir, list_dir[i])\n",
    "    if os.path.isfile(path):\n",
    "        dirs = list_dir[i][:-4]\n",
    "        print(\"====目录 \" + dirs+\" ==================================\")\n",
    "        list_dir2 = os.listdir(dirs.strip())\n",
    "        print(len(list_dir2))\n",
    "        for i in range(0, len(list_dir2)):\n",
    "            dirs2 =list_dir2[i]\n",
    "            #print(dirs2)\n",
    "            path2 = os.path.join(dirs,dirs2)\n",
    "            if os.path.isfile(path2):\n",
    "                filename = list_dir2[i]\n",
    "                print(\"=======文件 \" + filename +\" ===path:\"+path2)\n",
    "                contentsx=readhtml(dirs+\"_1\",filepath)\n",
    "                htmltomd(dirs+\"_1\",contentsx)"
   ]
  }
 ],
 "metadata": {
  "kernelspec": {
   "display_name": "Python 3",
   "language": "python",
   "name": "python3"
  },
  "language_info": {
   "codemirror_mode": {
    "name": "ipython",
    "version": 3
   },
   "file_extension": ".py",
   "mimetype": "text/x-python",
   "name": "python",
   "nbconvert_exporter": "python",
   "pygments_lexer": "ipython3",
   "version": "3.6.5"
  }
 },
 "nbformat": 4,
 "nbformat_minor": 2
}
